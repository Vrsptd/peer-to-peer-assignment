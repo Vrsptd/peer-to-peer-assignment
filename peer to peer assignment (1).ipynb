{
 "cells": [
  {
   "cell_type": "markdown",
   "id": "b9f8aae0-37e3-4229-821f-c61b779c0de2",
   "metadata": {},
   "source": [
    "peer-peer assignment"
   ]
  },
  {
   "cell_type": "markdown",
   "id": "232e49c9-7219-4754-b3a0-e9982319b5ba",
   "metadata": {},
   "source": [
    "Introduction\n",
    "\n",
    "we learned many tools of the data science.\n"
   ]
  },
  {
   "cell_type": "markdown",
   "id": "985c120f-916e-46ea-a4c5-a68b515a107f",
   "metadata": {},
   "source": [
    "data science language\n",
    "\n",
    "1.python\n",
    "2.R\n",
    "3.java"
   ]
  },
  {
   "cell_type": "markdown",
   "id": "d92e23c2-c81e-4f3e-83ef-49f188d48a4b",
   "metadata": {},
   "source": [
    "data science libraries:-\n",
    "1.PyTorch\n",
    "2.Tensor flow\n",
    "3.scikit-learn"
   ]
  },
  {
   "cell_type": "markdown",
   "id": "abe0babb-1008-4e21-a541-1c80fda2dda8",
   "metadata": {},
   "source": [
    "tools for data science:-\n",
    "1.jupyter notebook\n",
    "2.watson studio\n",
    "3.data refinery\n",
    "4.spps\n",
    "5.open scale"
   ]
  },
  {
   "cell_type": "markdown",
   "id": "7ac569d8-c16f-4360-8d3f-1f28ddb001e3",
   "metadata": {},
   "source": [
    "arithmetic expression examples:-\n",
    "1+2=3\n",
    "3*2=6\n",
    "6/3=2.0"
   ]
  },
  {
   "cell_type": "code",
   "execution_count": null,
   "id": "e6ebf4f6-bf31-4d10-96f1-6c9d2529e6e1",
   "metadata": {},
   "outputs": [],
   "source": [
    "a=8\n",
    "b=4\n",
    "print(a+b)\n",
    "print(a*b)"
   ]
  },
  {
   "cell_type": "code",
   "execution_count": null,
   "id": "2a5ae19a-2bc8-4a24-9302-bcaae3dc9a3b",
   "metadata": {},
   "outputs": [],
   "source": [
    "n=int(input))\n",
    "hour=n/60\n",
    "print(hour)"
   ]
  },
  {
   "cell_type": "markdown",
   "id": "b0693463-2540-479d-a326-0541d797f035",
   "metadata": {},
   "source": [
    "objective:-\n",
    "1) To learn the use of data science tools \n",
    "2) become a perfect data scientist\n"
   ]
  },
  {
   "cell_type": "markdown",
   "id": "c438bcdf-6924-417b-9620-392ab23d3bae",
   "metadata": {},
   "source": [
    "Authors name\n",
    "\n",
    "Aije Egwaikhide\n"
   ]
  }
 ],
 "metadata": {
  "kernelspec": {
   "display_name": "Python",
   "language": "python",
   "name": "conda-env-python-py"
  },
  "language_info": {
   "codemirror_mode": {
    "name": "ipython",
    "version": 3
   },
   "file_extension": ".py",
   "mimetype": "text/x-python",
   "name": "python",
   "nbconvert_exporter": "python",
   "pygments_lexer": "ipython3",
   "version": "3.7.12"
  }
 },
 "nbformat": 4,
 "nbformat_minor": 5
}
